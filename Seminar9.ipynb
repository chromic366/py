{
  "nbformat": 4,
  "nbformat_minor": 0,
  "metadata": {
    "colab": {
      "provenance": [],
      "authorship_tag": "ABX9TyMFPohCPWIBoyGORulqTlw9",
      "include_colab_link": true
    },
    "kernelspec": {
      "name": "python3",
      "display_name": "Python 3"
    },
    "language_info": {
      "name": "python"
    }
  },
  "cells": [
    {
      "cell_type": "markdown",
      "metadata": {
        "id": "view-in-github",
        "colab_type": "text"
      },
      "source": [
        "<a href=\"https://colab.research.google.com/github/chromic366/py/blob/main/Seminar9.ipynb\" target=\"_parent\"><img src=\"https://colab.research.google.com/assets/colab-badge.svg\" alt=\"Open In Colab\"/></a>"
      ]
    },
    {
      "cell_type": "code",
      "execution_count": 1,
      "metadata": {
        "id": "W0LJTZ82LY9V"
      },
      "outputs": [],
      "source": [
        "import pandas as pd"
      ]
    },
    {
      "cell_type": "code",
      "source": [
        "data = pd.read_csv('sample_data/california_housing_test.csv')"
      ],
      "metadata": {
        "id": "oajLo3S2L-hI"
      },
      "execution_count": 4,
      "outputs": []
    },
    {
      "cell_type": "code",
      "source": [
        "data.tail(10)"
      ],
      "metadata": {
        "id": "bjjL3kJbMuj7"
      },
      "execution_count": null,
      "outputs": []
    },
    {
      "cell_type": "code",
      "source": [
        "data.shape"
      ],
      "metadata": {
        "id": "d-i2JJlYNlbJ"
      },
      "execution_count": null,
      "outputs": []
    },
    {
      "cell_type": "code",
      "source": [
        "data.dtypes"
      ],
      "metadata": {
        "id": "4JqNo8lpNqpc"
      },
      "execution_count": null,
      "outputs": []
    },
    {
      "cell_type": "markdown",
      "source": [
        " Task 59"
      ],
      "metadata": {
        "id": "WUHQ5MD4N_Pw"
      }
    },
    {
      "cell_type": "code",
      "source": [
        "data.isnull()"
      ],
      "metadata": {
        "id": "yH7wElzROFCK"
      },
      "execution_count": null,
      "outputs": []
    },
    {
      "cell_type": "code",
      "source": [
        "data.isnull().sum()"
      ],
      "metadata": {
        "id": "nosviceMOVYh"
      },
      "execution_count": null,
      "outputs": []
    },
    {
      "cell_type": "code",
      "source": [
        "data[data['median_income'] < 2] ['median_house_value']"
      ],
      "metadata": {
        "id": "piLp9jtNOm6k"
      },
      "execution_count": null,
      "outputs": []
    },
    {
      "cell_type": "code",
      "source": [
        "data[['longitude', 'latitude']]"
      ],
      "metadata": {
        "id": "7W1VwZUuQMZe"
      },
      "execution_count": null,
      "outputs": []
    },
    {
      "cell_type": "code",
      "source": [
        "data[(data['housing_median_age'] < 20) & (data['median_house_value'] > 7000)]"
      ],
      "metadata": {
        "id": "njAX0LUJQ52y"
      },
      "execution_count": null,
      "outputs": []
    },
    {
      "cell_type": "markdown",
      "source": [
        "Task61"
      ],
      "metadata": {
        "id": "esxo4-NISDpi"
      }
    },
    {
      "cell_type": "code",
      "source": [
        "print(data['median_house_value'].max())"
      ],
      "metadata": {
        "colab": {
          "base_uri": "https://localhost:8080/"
        },
        "id": "wlMgB4GASFQ3",
        "outputId": "2aef2f1d-f47b-4ecf-9ccc-d699a59dea2b"
      },
      "execution_count": 26,
      "outputs": [
        {
          "output_type": "stream",
          "name": "stdout",
          "text": [
            "500001.0\n"
          ]
        }
      ]
    },
    {
      "cell_type": "code",
      "source": [
        "print(data['median_house_value'].min())"
      ],
      "metadata": {
        "colab": {
          "base_uri": "https://localhost:8080/"
        },
        "id": "7aZdQDRqSgU5",
        "outputId": "92e43d49-f27a-432c-f164-bb907688c097"
      },
      "execution_count": 27,
      "outputs": [
        {
          "output_type": "stream",
          "name": "stdout",
          "text": [
            "22500.0\n"
          ]
        }
      ]
    },
    {
      "cell_type": "code",
      "source": [
        "data[data['median_income'] == 3.125]['median_house_value'].max()"
      ],
      "metadata": {
        "colab": {
          "base_uri": "https://localhost:8080/"
        },
        "id": "WaSLR19OSj_D",
        "outputId": "8b3a8a70-4bb6-4ddf-ed0f-ebf8d90d6897"
      },
      "execution_count": 30,
      "outputs": [
        {
          "output_type": "execute_result",
          "data": {
            "text/plain": [
              "233300.0"
            ]
          },
          "metadata": {},
          "execution_count": 30
        }
      ]
    },
    {
      "cell_type": "code",
      "source": [
        "data[data['median_house_value'] == data['median_house_value'].min()]['population'].max()"
      ],
      "metadata": {
        "id": "-Tl0FzTrUVuk"
      },
      "execution_count": null,
      "outputs": []
    },
    {
      "cell_type": "markdown",
      "source": [
        "Simanar10\n",
        "Task63\n",
        "Изобразите отношение households к population с помощью точечного графика\n",
        "2. Визуализировать longitude по отношения к median_house_value, используя линейный график\n",
        "3. Представить гистограмму по housing_median_age\n",
        "4. Изобразить гистограмму по median_house_value с\n",
        "оттенком housing_median_age"
      ],
      "metadata": {
        "id": "jHm5IK_JXwh5"
      }
    },
    {
      "cell_type": "code",
      "source": [
        "import seaborn as sb"
      ],
      "metadata": {
        "id": "iRchI45BYKnA"
      },
      "execution_count": 32,
      "outputs": []
    },
    {
      "cell_type": "code",
      "source": [
        "sb.scatterplot(data, x = 'households', y = 'population')"
      ],
      "metadata": {
        "id": "04Hvr3u1TKlW"
      },
      "execution_count": null,
      "outputs": []
    },
    {
      "cell_type": "markdown",
      "source": [
        "`"
      ],
      "metadata": {
        "id": "2DpA7QPGS20p"
      }
    },
    {
      "cell_type": "code",
      "source": [
        "sb.relplot(x = 'longitude', y = 'median_house_value', kind = 'line', data = data)"
      ],
      "metadata": {
        "id": "I741y-0UZXjp"
      },
      "execution_count": null,
      "outputs": []
    },
    {
      "cell_type": "code",
      "source": [
        "sb.histplot(data, x = 'housing_median_age')"
      ],
      "metadata": {
        "id": "ra5E4XJOZmKT"
      },
      "execution_count": null,
      "outputs": []
    },
    {
      "cell_type": "code",
      "source": [
        "data.loc[data['housing_median_age'] <= 20, 'age_group'] = 'Молодые'\n",
        "data.loc[(data['housing_median_age'] > 20) & (data['housing_median_age'] <= 50), 'age_group'] = 'ср-й возраст'\n",
        "data.loc[data['housing_median_age'] > 50, 'age_group'] = 'Пожилые'\n",
        "\n",
        "sb.histplot(data,  x = 'median_house_value', hue = 'age_group')"
      ],
      "metadata": {
        "id": "khSXjpt2ZuhM"
      },
      "execution_count": null,
      "outputs": []
    },
    {
      "cell_type": "markdown",
      "source": [
        "Task65 Написать EDA для датасета про пингвинов Необходимо:\n",
        "\n",
        "Использовать 2-3 точечных графика\n",
        "Применить доп измерение в точечных графиках, используя аргументы hue, size, stile\n",
        "Использовать PairGrid с типом графика на ваш выбор\n",
        "Изобразить Heatmap\n",
        "Использовать 2-3 гистограммы"
      ],
      "metadata": {
        "id": "lpkNTVbhZ_rD"
      }
    },
    {
      "cell_type": "code",
      "source": [
        "penguins = sb.load_dataset(\"penguins\")"
      ],
      "metadata": {
        "id": "N5sufgFgaJMa"
      },
      "execution_count": 43,
      "outputs": []
    },
    {
      "cell_type": "code",
      "source": [
        "penguins.tail()"
      ],
      "metadata": {
        "id": "HasUSrRbaO39"
      },
      "execution_count": null,
      "outputs": []
    },
    {
      "cell_type": "code",
      "source": [
        "sb.scatterplot(data = penguins, x = 'bill_length_mm', y = 'bill_depth_mm')"
      ],
      "metadata": {
        "id": "MsvMyt9uaTnx"
      },
      "execution_count": null,
      "outputs": []
    },
    {
      "cell_type": "code",
      "source": [
        "sb.scatterplot(data = penguins, x = 'bill_length_mm', y = 'body_mass_g', hue = 'sex')"
      ],
      "metadata": {
        "id": "vygvD1fUaU3V"
      },
      "execution_count": null,
      "outputs": []
    },
    {
      "cell_type": "code",
      "source": [
        "sb.scatterplot(data = penguins, x = 'body_mass_g', y = 'bill_depth_mm', hue = 'sex', size = 10)"
      ],
      "metadata": {
        "id": "UXM9zih2aZ9J"
      },
      "execution_count": null,
      "outputs": []
    },
    {
      "cell_type": "code",
      "source": [
        "cols = ['island', 'bill_length_mm', 'bill_depth_mm', 'body_mass_g', 'sex']\n",
        "info = sb.PairGrid(penguins[cols])\n",
        "info.map(sb.scatterplot)"
      ],
      "metadata": {
        "id": "36Jf6ZZHadTx"
      },
      "execution_count": null,
      "outputs": []
    },
    {
      "cell_type": "code",
      "source": [
        "sb.histplot(data = penguins, x = 'bill_length_mm')"
      ],
      "metadata": {
        "id": "PWKYTj3eaibo"
      },
      "execution_count": null,
      "outputs": []
    },
    {
      "cell_type": "code",
      "source": [
        "sb.histplot(data = penguins[penguins['bill_length_mm'] > 50], x = 'body_mass_g')"
      ],
      "metadata": {
        "id": "Ztc3spXsamz5"
      },
      "execution_count": null,
      "outputs": []
    },
    {
      "cell_type": "code",
      "source": [
        "Task67\n",
        "\n",
        "Создать новый столбец в таблице с пингвинами, который будет отвечать за показатель длины клюва пингвина.\n",
        "high - длинный(от 42)\n",
        "middle - средний(от 35 до 42)\n",
        "low - маленький(до 35)"
      ],
      "metadata": {
        "id": "EgykLbbFa1GU"
      },
      "execution_count": null,
      "outputs": []
    },
    {
      "cell_type": "code",
      "source": [
        "penguins.loc[penguins['bill_length_mm'] > 42, 'size_of_bill'] = 'high'\n",
        "penguins.loc[(penguins['bill_length_mm'] > 35) & (penguins['bill_length_mm'] <= 42), 'size_of_bill'] = 'middle'\n",
        "penguins.loc[penguins['bill_length_mm'] <= 35, 'size_of_bill'] = 'low'\n",
        "\n",
        "\n",
        "penguins.head()"
      ],
      "metadata": {
        "id": "gqtq0FjNa42h"
      },
      "execution_count": null,
      "outputs": []
    },
    {
      "cell_type": "markdown",
      "source": [
        "Task69\n",
        "\n",
        "Изобразить гистограмму по flipper_length_mm с оттенком height_group. Сделать анализ"
      ],
      "metadata": {
        "id": "W-NM1zCVbH46"
      }
    },
    {
      "cell_type": "code",
      "source": [
        "sb.histplot(data = penguins, x = 'flipper_length_mm', hue = 'size_of_bill')"
      ],
      "metadata": {
        "id": "b0NPFVaIbJ_S"
      },
      "execution_count": null,
      "outputs": []
    },
    {
      "cell_type": "code",
      "source": [
        "семинар 10\n",
        "\n",
        "EDA Titanic"
      ],
      "metadata": {
        "id": "z9modsQVbhNa"
      },
      "execution_count": null,
      "outputs": []
    },
    {
      "cell_type": "code",
      "source": [
        "titanic = sb.load_dataset(\"titanic\")"
      ],
      "metadata": {
        "id": "t0l6XnZCbigy"
      },
      "execution_count": 53,
      "outputs": []
    },
    {
      "cell_type": "code",
      "source": [
        "titanic.head(15)"
      ],
      "metadata": {
        "id": "1VzCszU-bqI0"
      },
      "execution_count": null,
      "outputs": []
    },
    {
      "cell_type": "code",
      "source": [
        "sb.histplot(data = titanic['alive'], x = titanic['sex'])"
      ],
      "metadata": {
        "id": "bD5w9q4Lbr8X"
      },
      "execution_count": null,
      "outputs": []
    },
    {
      "cell_type": "code",
      "source": [
        "sb.histplot(data = titanic['adult_male'], x =titanic['embark_town'], hue = titanic['alive'])"
      ],
      "metadata": {
        "id": "7ymEfuheb0K1"
      },
      "execution_count": null,
      "outputs": []
    }
  ]
}