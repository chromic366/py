{
  "nbformat": 4,
  "nbformat_minor": 0,
  "metadata": {
    "colab": {
      "provenance": [],
      "authorship_tag": "ABX9TyOTmTnA8wLTmRPbl+HWKVbz",
      "include_colab_link": true
    },
    "kernelspec": {
      "name": "python3",
      "display_name": "Python 3"
    },
    "language_info": {
      "name": "python"
    }
  },
  "cells": [
    {
      "cell_type": "markdown",
      "metadata": {
        "id": "view-in-github",
        "colab_type": "text"
      },
      "source": [
        "<a href=\"https://colab.research.google.com/github/chromic366/py/blob/main/Seminar10_dZ.ipynb\" target=\"_parent\"><img src=\"https://colab.research.google.com/assets/colab-badge.svg\" alt=\"Open In Colab\"/></a>"
      ]
    },
    {
      "cell_type": "code",
      "execution_count": null,
      "metadata": {
        "id": "hlPYZmww_Xms"
      },
      "outputs": [],
      "source": [
        "import pandas as pd"
      ]
    },
    {
      "cell_type": "code",
      "source": [
        "import random\n",
        "lst = ['robot'] * 10\n",
        "lst += ['human'] * 10\n",
        "random.shuffle(lst)\n",
        "data = pd.DataFrame({'whoAmI': lst})"
      ],
      "metadata": {
        "id": "pl48x6uTAGC_"
      },
      "execution_count": null,
      "outputs": []
    },
    {
      "cell_type": "code",
      "source": [
        "one_hot_data = pd.DataFrame(columns=pd.unique(data['whoAmI']))\n",
        "\n",
        "# Заполняем one-hot столбцы значениями 0 или 1\n",
        "for column in one_hot_data.columns:\n",
        "    one_hot_data[column] = (data['whoAmI'] == column).astype(int)\n",
        "\n",
        "# Объединяем исходный DataFrame с one-hot DataFrame\n",
        "data_encoded = pd.concat([data, one_hot_data], axis=1)\n",
        "\n",
        "data_encoded.head()"
      ],
      "metadata": {
        "id": "PDOueJLOBYPX"
      },
      "execution_count": null,
      "outputs": []
    }
  ]
}